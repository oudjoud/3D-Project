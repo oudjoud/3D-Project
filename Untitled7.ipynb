{
  "nbformat": 4,
  "nbformat_minor": 0,
  "metadata": {
    "colab": {
      "provenance": [],
      "authorship_tag": "ABX9TyMAyv8Up6FmSyhDuAbn1Y2u",
      "include_colab_link": true
    },
    "kernelspec": {
      "name": "python3",
      "display_name": "Python 3"
    },
    "language_info": {
      "name": "python"
    }
  },
  "cells": [
    {
      "cell_type": "markdown",
      "metadata": {
        "id": "view-in-github",
        "colab_type": "text"
      },
      "source": [
        "<a href=\"https://colab.research.google.com/github/oudjoud/3D-Project/blob/main/Untitled7.ipynb\" target=\"_parent\"><img src=\"https://colab.research.google.com/assets/colab-badge.svg\" alt=\"Open In Colab\"/></a>"
      ]
    },
    {
      "cell_type": "code",
      "execution_count": 11,
      "metadata": {
        "id": "lJWB7pMf6Kit"
      },
      "outputs": [],
      "source": [
        "import numpy as np\n",
        "\n",
        "matrix = np.array([[1079,  967,  903,  846,  808,  773,  740,  718],\n",
        "                   [1018,  945,  892,  846,  804,  765,  727,  702],\n",
        "                   [1001 , 922 , 875,  846,  821,  781,  735,  701],\n",
        "                   [984 , 908 , 895,  853, 819,  778,  740 , 699 ],\n",
        "                   [993,  935 , 893 , 858,  813, 786 , 737 , 701 ],\n",
        "                   [1010,  920, 873 , 845 , 811 , 775,  732 , 700 ],\n",
        "                   [999 , 919 , 877,  836 , 802 , 753 , 725,  694],\n",
        "                   [1005,  933,  869,  832,  795,  760,  726, 696]])\n",
        "\n",
        "flattened_array = matrix.flatten()\n",
        "\n"
      ]
    },
    {
      "cell_type": "code",
      "source": [
        "# Rescale values to the range [0, 255]\n",
        "rescaled_array = (flattened_array - flattened_array.min()) * (255 / (flattened_array.max() - flattened_array.min()))\n"
      ],
      "metadata": {
        "id": "p9whxe9I6Yrd"
      },
      "execution_count": 12,
      "outputs": []
    },
    {
      "cell_type": "code",
      "source": [
        "reshaped_array = rescaled_array.reshape((8, 8))\n",
        "\n"
      ],
      "metadata": {
        "id": "CmbxFSpR6a_B"
      },
      "execution_count": 13,
      "outputs": []
    },
    {
      "cell_type": "code",
      "source": [
        "import matplotlib.pyplot as plt\n",
        "\n",
        "plt.imshow(reshaped_array, cmap='gray', interpolation='nearest')\n",
        "plt.show()\n"
      ],
      "metadata": {
        "colab": {
          "base_uri": "https://localhost:8080/",
          "height": 430
        },
        "id": "udCV6xbc6i-G",
        "outputId": "1fefc38c-b5f6-4025-f8a3-accff7874f1b"
      },
      "execution_count": 14,
      "outputs": [
        {
          "output_type": "display_data",
          "data": {
            "text/plain": [
              "<Figure size 640x480 with 1 Axes>"
            ],
            "image/png": "[encoded data removed]"
          },
          "metadata": {}
        }
      ]
    },
    {
      "cell_type": "markdown",
      "source": [
        "## labellisation"
      ],
      "metadata": {
        "id": "4H7pNl79Rwb9"
      }
    },
    {
      "cell_type": "code",
      "source": [
        "def labellisation(L):\n",
        "  labellisee=[]\n",
        "  for i in range(0,121):\n",
        "    labellisee=labellisee +[L[i][0],L[i][7],L[i][55],L[i][63]]  # il y a 122 matrices correspondant à des plans simples donc on prend les 4 coins de ces plans\n"
      ],
      "metadata": {
        "id": "Uj-HTibJ_gok"
      },
      "execution_count": null,
      "outputs": []
    },
    {
      "cell_type": "code",
      "source": [],
      "metadata": {
        "id": "p4jH0AqDRwHd"
      },
      "execution_count": null,
      "outputs": []
    }
  ]
}